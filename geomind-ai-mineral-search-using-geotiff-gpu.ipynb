{
 "cells": [
  {
   "cell_type": "code",
   "execution_count": 1,
   "id": "d0582d19",
   "metadata": {
    "_cell_guid": "b1076dfc-b9ad-4769-8c92-a6c4dae69d19",
    "_uuid": "8f2839f25d086af736a60e9eeb907d3b93b6e0e5",
    "execution": {
     "iopub.execute_input": "2025-07-14T15:48:09.028561Z",
     "iopub.status.busy": "2025-07-14T15:48:09.028138Z",
     "iopub.status.idle": "2025-07-14T15:48:11.595724Z",
     "shell.execute_reply": "2025-07-14T15:48:11.594399Z"
    },
    "papermill": {
     "duration": 2.573381,
     "end_time": "2025-07-14T15:48:11.597563",
     "exception": false,
     "start_time": "2025-07-14T15:48:09.024182",
     "status": "completed"
    },
    "tags": []
   },
   "outputs": [],
   "source": [
    "# This Python 3 environment comes with many helpful analytics libraries installed\n",
    "# It is defined by the kaggle/python Docker image: https://github.com/kaggle/docker-python\n",
    "# For example, here's several helpful packages to load\n",
    "\n",
    "import numpy as np # linear algebra\n",
    "import pandas as pd # data processing, CSV file I/O (e.g. pd.read_csv)\n",
    "\n",
    "# Input data files are available in the read-only \"../input/\" directory\n",
    "# For example, running this (by clicking run or pressing Shift+Enter) will list all files under the input directory\n",
    "\n",
    "import os\n",
    "for dirname, _, filenames in os.walk('/kaggle/input'):\n",
    "    for filename in filenames:\n",
    "        print(os.path.join(dirname, filename))\n",
    "\n",
    "# You can write up to 20GB to the current directory (/kaggle/working/) that gets preserved as output when you create a version using \"Save & Run All\" \n",
    "# You can also write temporary files to /kaggle/temp/, but they won't be saved outside of the current session"
   ]
  },
  {
   "cell_type": "code",
   "execution_count": 2,
   "id": "5cec2b89",
   "metadata": {
    "execution": {
     "iopub.execute_input": "2025-07-14T15:48:11.602782Z",
     "iopub.status.busy": "2025-07-14T15:48:11.602321Z",
     "iopub.status.idle": "2025-07-14T15:48:17.788439Z",
     "shell.execute_reply": "2025-07-14T15:48:17.786795Z"
    },
    "papermill": {
     "duration": 6.191173,
     "end_time": "2025-07-14T15:48:17.790759",
     "exception": true,
     "start_time": "2025-07-14T15:48:11.599586",
     "status": "failed"
    },
    "tags": []
   },
   "outputs": [
    {
     "ename": "ModuleNotFoundError",
     "evalue": "No module named 'rasterio'",
     "output_type": "error",
     "traceback": [
      "\u001b[0;31m---------------------------------------------------------------------------\u001b[0m",
      "\u001b[0;31mModuleNotFoundError\u001b[0m                       Traceback (most recent call last)",
      "\u001b[0;32m/tmp/ipykernel_13/906651477.py\u001b[0m in \u001b[0;36m<cell line: 0>\u001b[0;34m()\u001b[0m\n\u001b[1;32m      1\u001b[0m \u001b[0;32mimport\u001b[0m \u001b[0mtorch\u001b[0m\u001b[0;34m\u001b[0m\u001b[0;34m\u001b[0m\u001b[0m\n\u001b[1;32m      2\u001b[0m \u001b[0;32mimport\u001b[0m \u001b[0mpandas\u001b[0m \u001b[0;32mas\u001b[0m \u001b[0mpd\u001b[0m\u001b[0;34m\u001b[0m\u001b[0;34m\u001b[0m\u001b[0m\n\u001b[0;32m----> 3\u001b[0;31m \u001b[0;32mimport\u001b[0m \u001b[0mrasterio\u001b[0m\u001b[0;34m\u001b[0m\u001b[0;34m\u001b[0m\u001b[0m\n\u001b[0m\u001b[1;32m      4\u001b[0m \u001b[0;32mimport\u001b[0m \u001b[0mnumpy\u001b[0m \u001b[0;32mas\u001b[0m \u001b[0mnp\u001b[0m\u001b[0;34m\u001b[0m\u001b[0;34m\u001b[0m\u001b[0m\n\u001b[1;32m      5\u001b[0m \u001b[0;32mimport\u001b[0m \u001b[0mmatplotlib\u001b[0m\u001b[0;34m.\u001b[0m\u001b[0mpyplot\u001b[0m \u001b[0;32mas\u001b[0m \u001b[0mplt\u001b[0m\u001b[0;34m\u001b[0m\u001b[0;34m\u001b[0m\u001b[0m\n",
      "\u001b[0;31mModuleNotFoundError\u001b[0m: No module named 'rasterio'"
     ]
    }
   ],
   "source": [
    "import torch\n",
    "import pandas as pd\n",
    "import rasterio\n",
    "import numpy as np\n",
    "import matplotlib.pyplot as plt\n",
    "import os\n",
    "\n",
    "# --------------------------\n",
    "# ✅ 1. Check GPU/CPU\n",
    "# --------------------------\n",
    "device = torch.device(\"cuda\" if torch.cuda.is_available() else \"cpu\")\n",
    "print(f\"✅ Running on device: {device}\")\n",
    "\n",
    "# --------------------------\n",
    "# ✅ 2. Upload GeoTIFF file\n",
    "# --------------------------\n",
    "from google.colab import files  # For Kaggle, this still works\n",
    "\n",
    "print(\"📤 Upload a GeoTIFF (.tif, .tiff):\")\n",
    "uploaded = files.upload()\n",
    "\n",
    "# --------------------------\n",
    "# ✅ 3. Process Uploaded Files\n",
    "# --------------------------\n",
    "for filename in uploaded.keys():\n",
    "    if filename.endswith(('.tif', '.tiff')):\n",
    "        try:\n",
    "            with rasterio.open(filename) as src:\n",
    "                print(f\"\\n✅ Successfully loaded {filename}\")\n",
    "                array = src.read(1)  # Read the first band\n",
    "                print(f\"Image shape: {array.shape}\")\n",
    "                print(\"Metadata:\", src.meta)\n",
    "\n",
    "                # Display the image\n",
    "                plt.imshow(array, cmap='gray')\n",
    "                plt.title(f\"Preview of {filename}\")\n",
    "                plt.axis('off')\n",
    "                plt.show()\n",
    "\n",
    "                # Dummy mineral prediction: calculate mean intensity\n",
    "                mineral_score = np.mean(array)\n",
    "                print(f\"🧭 Predicted Mineral Presence Score: {mineral_score:.2f}\")\n",
    "\n",
    "                # Save result as DataFrame\n",
    "                result_df = pd.DataFrame({\n",
    "                    'filename': [filename],\n",
    "                    'device': [str(device)],\n",
    "                    'mineral_score': [mineral_score]\n",
    "                })\n",
    "\n",
    "                # Save to CSV\n",
    "                output_file = f\"prediction_{filename}.csv\".replace('.tif','').replace('.tiff','')\n",
    "                result_df.to_csv(output_file, index=False)\n",
    "                print(f\"✅ Prediction saved as: {output_file}\")\n",
    "\n",
    "        except Exception as e:\n",
    "            print(f\"❌ Error processing {filename}: {e}\")\n",
    "    else:\n",
    "        print(f\"❌ Unsupported file format: {filename}\")\n",
    "\n",
    "# --------------------------\n",
    "# ✅ 4. Completion Summary\n",
    "# --------------------------\n",
    "print(\"\\n🏁 All files processed. Check the 'Output' tab for CSV predictions.\")"
   ]
  }
 ],
 "metadata": {
  "kaggle": {
   "accelerator": "none",
   "dataSources": [],
   "isGpuEnabled": false,
   "isInternetEnabled": true,
   "language": "python",
   "sourceType": "notebook"
  },
  "kernelspec": {
   "display_name": "Python 3",
   "language": "python",
   "name": "python3"
  },
  "language_info": {
   "codemirror_mode": {
    "name": "ipython",
    "version": 3
   },
   "file_extension": ".py",
   "mimetype": "text/x-python",
   "name": "python",
   "nbconvert_exporter": "python",
   "pygments_lexer": "ipython3",
   "version": "3.11.13"
  },
  "papermill": {
   "default_parameters": {},
   "duration": 17.506214,
   "end_time": "2025-07-14T15:48:20.378449",
   "environment_variables": {},
   "exception": true,
   "input_path": "__notebook__.ipynb",
   "output_path": "__notebook__.ipynb",
   "parameters": {},
   "start_time": "2025-07-14T15:48:02.872235",
   "version": "2.6.0"
  }
 },
 "nbformat": 4,
 "nbformat_minor": 5
}
